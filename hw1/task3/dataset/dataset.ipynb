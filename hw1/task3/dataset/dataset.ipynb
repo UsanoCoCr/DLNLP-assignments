{
 "cells": [
  {
   "cell_type": "code",
   "execution_count": 17,
   "metadata": {},
   "outputs": [
    {
     "name": "stdout",
     "output_type": "stream",
     "text": [
      "62487\n"
     ]
    }
   ],
   "source": [
    "import numpy as np\n",
    "\n",
    "file = open('eng_jpn.txt', 'r', encoding='utf-8')\n",
    "lines = file.readlines()\n",
    "file.close()\n",
    "print(len(lines))"
   ]
  },
  {
   "cell_type": "code",
   "execution_count": 27,
   "metadata": {},
   "outputs": [
    {
     "name": "stdout",
     "output_type": "stream",
     "text": [
      "49989 6249 6249\n"
     ]
    }
   ],
   "source": [
    "# shuffle and split\n",
    "np.random.shuffle(lines)\n",
    "train = lines[:int(len(lines)*0.8)]\n",
    "val = lines[int(len(lines)*0.8):int(len(lines)*0.9)]\n",
    "test = lines[int(len(lines)*0.9):]\n",
    "\n",
    "print(len(train), len(val), len(test))\n",
    "\n",
    "# write to files\n",
    "train_file = open('train.txt', 'w', encoding='utf-8')\n",
    "val_file = open('val.txt', 'w', encoding='utf-8')\n",
    "test_file = open('test.txt', 'w', encoding='utf-8')\n",
    "\n",
    "train_file.writelines(train)\n",
    "val_file.writelines(val)\n",
    "test_file.writelines(test)\n",
    "\n",
    "train_file.close()\n",
    "val_file.close()\n",
    "test_file.close()"
   ]
  },
  {
   "cell_type": "code",
   "execution_count": 38,
   "metadata": {},
   "outputs": [],
   "source": [
    "train_file = open('./lstm_dataset/test.txt', 'r', encoding='utf-8') # train, val, test\n",
    "# split into english and japanese\n",
    "train_lines = train_file.readlines()\n",
    "train_file.close()\n",
    "\n",
    "train_jpn = []\n",
    "train_eng = []\n",
    "for line in train_lines:\n",
    "    try:\n",
    "        jpn, eng = line.strip().split('\\t')\n",
    "    except:\n",
    "        print(line)\n",
    "        continue\n",
    "    train_jpn.append(jpn + '\\n')\n",
    "    train_eng.append(eng + '\\n')\n",
    "\n",
    "train_jpn_file = open('test_jpn.txt', 'w', encoding='utf-8')\n",
    "train_eng_file = open('test_eng.txt', 'w', encoding='utf-8')\n",
    "\n",
    "train_jpn_file.writelines(train_jpn)\n",
    "train_eng_file.writelines(train_eng)\n",
    "\n",
    "train_jpn_file.close()\n",
    "train_eng_file.close()"
   ]
  },
  {
   "cell_type": "code",
   "execution_count": 79,
   "metadata": {},
   "outputs": [
    {
     "name": "stdout",
     "output_type": "stream",
     "text": [
      "Context: ['ほしい', 'の', '<pad>', '<pad>'] Target: 。\n",
      "Context: ['<pad>', '<pad>', '寒かっ', 'た'] Target: 外\n",
      "Context: ['<pad>', '<pad>', 'は', '自分'] Target: 私\n",
      "Context: ['<pad>', '<pad>', 'と', 'メアリー'] Target: トム\n",
      "Context: ['本当', 'に', 'わ', 'ね'] Target: 細かい\n"
     ]
    }
   ],
   "source": [
    "import MeCab\n",
    "from collections import defaultdict\n",
    "import random\n",
    "\n",
    "mecab = MeCab.Tagger('-Owakati')\n",
    "\n",
    "def generate_cbow_pairs(text, window_size=2, pad_token='<pad>'):\n",
    "    words = [pad_token] * window_size + text.strip().split() + [pad_token] * window_size\n",
    "    data = []\n",
    "    for i in range(window_size, len(words) - window_size):\n",
    "        context = words[i-window_size:i] + words[i+1:i+window_size+1]\n",
    "        target = words[i]\n",
    "        data.append((context, target))\n",
    "    return data\n",
    "\n",
    "file_path = 'train_jpn.txt'\n",
    "train_data = []\n",
    "\n",
    "with open(file_path, 'r', encoding='utf-8') as file:\n",
    "    for line in file:\n",
    "        processed_line = mecab.parse(line)\n",
    "        cbow_pairs = generate_cbow_pairs(processed_line, window_size=2)\n",
    "        train_data.extend(cbow_pairs)\n",
    "\n",
    "random_samples = random.sample(train_data, 5)\n",
    "for context, target in random_samples:\n",
    "    print('Context:', context, 'Target:', target)\n"
   ]
  },
  {
   "cell_type": "code",
   "execution_count": 80,
   "metadata": {},
   "outputs": [],
   "source": [
    "train_cbow_file = open('./cbow_jpn_dataset/train_cbow.pkl', 'wb')\n",
    "\n",
    "import pickle\n",
    "\n",
    "pickle.dump(train_data, train_cbow_file)\n",
    "train_cbow_file.close()"
   ]
  },
  {
   "cell_type": "code",
   "execution_count": 68,
   "metadata": {},
   "outputs": [
    {
     "name": "stdout",
     "output_type": "stream",
     "text": [
      "Context: ['です', 'ね'] Target: 暑い\n",
      "Context: ['暑い', 'ね', '。'] Target: です\n",
      "Context: ['暑い', 'です', '。'] Target: ね\n",
      "Context: ['です', 'ね'] Target: 。\n",
      "Context: ['が', '一筋'] Target: 涙\n"
     ]
    }
   ],
   "source": [
    "import torch\n",
    "\n",
    "# 读取 CBOW 数据集\n",
    "train_cbow_file = open('./cbow_jpn_dataset/test_cbow.pkl', 'rb')\n",
    "train_data = pickle.load(train_cbow_file)\n",
    "train_cbow_file.close()\n",
    "\n",
    "for context, target in train_data[:5]:\n",
    "    print('Context:', context, 'Target:', target)"
   ]
  },
  {
   "cell_type": "code",
   "execution_count": 87,
   "metadata": {},
   "outputs": [
    {
     "name": "stderr",
     "output_type": "stream",
     "text": [
      "[nltk_data] Downloading package punkt to\n",
      "[nltk_data]     C:\\Users\\forev\\AppData\\Roaming\\nltk_data...\n",
      "[nltk_data]   Package punkt is already up-to-date!\n"
     ]
    },
    {
     "name": "stdout",
     "output_type": "stream",
     "text": [
      "Context: ['of', 'them', '<pad>', '<pad>'] Target: .\n",
      "Context: ['All', 'the', 'got', 'seasick'] Target: passengers\n",
      "Context: ['cold', '.', '<pad>', '<pad>'] Target: ''\n",
      "Context: ['<pad>', '<pad>', 'is', 'mad'] Target: Tom\n",
      "Context: ['left', 'behind', '<pad>', '<pad>'] Target: ?\n"
     ]
    }
   ],
   "source": [
    "import nltk\n",
    "from nltk.tokenize import word_tokenize\n",
    "import random\n",
    "\n",
    "nltk.download('punkt')\n",
    "\n",
    "def generate_cbow_pairs(text, window_size=2, pad_token='<pad>'):\n",
    "    words = [pad_token] * window_size + word_tokenize(text) + [pad_token] * window_size\n",
    "    data = []\n",
    "    for i in range(window_size, len(words) - window_size):\n",
    "        context = words[i-window_size:i] + words[i+1:i+window_size+1]\n",
    "        target = words[i]\n",
    "        data.append((context, target))\n",
    "    return data\n",
    "\n",
    "file_path = 'val_eng.txt'\n",
    "train_data = []\n",
    "\n",
    "with open(file_path, 'r', encoding='utf-8') as file:\n",
    "    for line in file:\n",
    "        cbow_pairs = generate_cbow_pairs(line)\n",
    "        train_data.extend(cbow_pairs)\n",
    "\n",
    "# 打印一些随机的训练样本进行检查\n",
    "random_samples = random.sample(train_data, 5)\n",
    "for context, target in random_samples:\n",
    "    print('Context:', context, 'Target:', target)"
   ]
  },
  {
   "cell_type": "code",
   "execution_count": 88,
   "metadata": {},
   "outputs": [],
   "source": [
    "train_cbow_file = open('./cbow_eng_dataset/val_cbow.pkl', 'wb')\n",
    "\n",
    "import pickle\n",
    "\n",
    "pickle.dump(train_data, train_cbow_file)\n",
    "train_cbow_file.close()"
   ]
  },
  {
   "cell_type": "code",
   "execution_count": 60,
   "metadata": {},
   "outputs": [
    {
     "name": "stdout",
     "output_type": "stream",
     "text": [
      "Context: ['am', 'going'] Target: I\n",
      "Context: ['I', 'going', 'to'] Target: am\n",
      "Context: ['I', 'am', 'to', 'go'] Target: going\n",
      "Context: ['am', 'going', 'go', 'to'] Target: to\n",
      "Context: ['going', 'to', 'to', 'America'] Target: go\n"
     ]
    }
   ],
   "source": [
    "import torch\n",
    "\n",
    "# 读取 CBOW 数据集\n",
    "train_cbow_file = open('./cbow_eng_dataset/train_cbow.pkl', 'rb')\n",
    "train_data = pickle.load(train_cbow_file)\n",
    "train_cbow_file.close()\n",
    "\n",
    "for context, target in train_data[:5]:\n",
    "    print('Context:', context, 'Target:', target)"
   ]
  },
  {
   "cell_type": "code",
   "execution_count": null,
   "metadata": {},
   "outputs": [],
   "source": []
  }
 ],
 "metadata": {
  "kernelspec": {
   "display_name": "base",
   "language": "python",
   "name": "python3"
  },
  "language_info": {
   "codemirror_mode": {
    "name": "ipython",
    "version": 3
   },
   "file_extension": ".py",
   "mimetype": "text/x-python",
   "name": "python",
   "nbconvert_exporter": "python",
   "pygments_lexer": "ipython3",
   "version": "3.9.13"
  }
 },
 "nbformat": 4,
 "nbformat_minor": 2
}
