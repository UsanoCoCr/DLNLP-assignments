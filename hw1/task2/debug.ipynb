{
 "cells": [
  {
   "cell_type": "code",
   "execution_count": 1,
   "metadata": {},
   "outputs": [],
   "source": [
    "import numpy as np\n",
    "import torch\n",
    "import jieba\n",
    "\n",
    "vocab = []\n",
    "\n",
    "def get_vocab(filename):\n",
    "    file = open(filename, \"r\", encoding=\"utf-8\")\n",
    "    lines = file.readlines()\n",
    "    text_input = []\n",
    "    idx_input = []\n",
    "    for line in lines:\n",
    "        raw_list = jieba.lcut(line[0:len(line)-3], use_paddle=True)\n",
    "        text_input.append(raw_list)\n",
    "        idx_input.append(line[len(line)-2])\n",
    "        for word in raw_list:\n",
    "            if word not in vocab:\n",
    "                vocab.append(word)\n",
    "    file.close()\n",
    "    return text_input, idx_input"
   ]
  },
  {
   "cell_type": "code",
   "execution_count": 33,
   "metadata": {},
   "outputs": [],
   "source": [
    "train_text, train_idx = get_vocab(\"train.txt\")\n",
    "val_text, val_idx = get_vocab(\"dev.txt\")\n",
    "test_text, test_idx = get_vocab(\"test.txt\")"
   ]
  },
  {
   "cell_type": "code",
   "execution_count": 35,
   "metadata": {},
   "outputs": [
    {
     "name": "stdout",
     "output_type": "stream",
     "text": [
      "False\n"
     ]
    }
   ],
   "source": [
    "print(torch.cuda.is_available())"
   ]
  }
 ],
 "metadata": {
  "kernelspec": {
   "display_name": "base",
   "language": "python",
   "name": "python3"
  },
  "language_info": {
   "codemirror_mode": {
    "name": "ipython",
    "version": 3
   },
   "file_extension": ".py",
   "mimetype": "text/x-python",
   "name": "python",
   "nbconvert_exporter": "python",
   "pygments_lexer": "ipython3",
   "version": "3.9.13"
  }
 },
 "nbformat": 4,
 "nbformat_minor": 2
}
